{
 "cells": [
  {
   "cell_type": "markdown",
   "id": "890e44a4",
   "metadata": {},
   "source": [
    "# Trabalho de programação --- Questão 1\n",
    "\n",
    "Criar um algoritmo que ao receber o salário atual de um funcionário, calcule o valor do novo salário reajustado de acordo com a tabela a seguir:\n",
    "```\n",
    "+-------------------------+-----+\n",
    "| Abaixo de R$500,00      | 15% |\n",
    "+-------------------------+-----+\n",
    "| De R$500,00 à R$1000,00 | 10% |\n",
    "+-------------------------+-----+\n",
    "| Acima de R$1000,00      | 5%  |\n",
    "+-------------------------+-----+\n",
    "```"
   ]
  },
  {
   "cell_type": "code",
   "execution_count": 3,
   "id": "d186ea45",
   "metadata": {},
   "outputs": [
    {
     "name": "stdout",
     "output_type": "stream",
     "text": [
      "Salário original: 789.00\n",
      "Novo salário: 867.9\n"
     ]
    }
   ],
   "source": [
    "def novo_salario(original, fator):\n",
    "    return original + fator * original\n",
    "\n",
    "if __name__ == '__main__':\n",
    "    original = float(input('Salário original: '))\n",
    "    \n",
    "    if original < 500:\n",
    "        novo = novo_salario(original, 0.15)\n",
    "    elif original < 1000:\n",
    "        novo = novo_salario(original, 0.10)\n",
    "    else:\n",
    "        novo = novo_salario(original, 0.05)\n",
    "        \n",
    "    print('Novo salário:', novo)"
   ]
  }
 ],
 "metadata": {
  "kernelspec": {
   "display_name": "Python 3 (ipykernel)",
   "language": "python",
   "name": "python3"
  },
  "language_info": {
   "codemirror_mode": {
    "name": "ipython",
    "version": 3
   },
   "file_extension": ".py",
   "mimetype": "text/x-python",
   "name": "python",
   "nbconvert_exporter": "python",
   "pygments_lexer": "ipython3",
   "version": "3.9.7"
  }
 },
 "nbformat": 4,
 "nbformat_minor": 5
}
