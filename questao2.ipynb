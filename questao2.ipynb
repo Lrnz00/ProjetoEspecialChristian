{
 "cells": [
  {
   "cell_type": "markdown",
   "id": "acef2685",
   "metadata": {},
   "source": [
    "# Trabalho de programação --- Questão 2\n",
    "\n",
    "Faça um algoritmo que pergunte o valor que um funcionário recebe por hora e quantas horas trabalha mensalmente, e a partir disso, recalcule o valor do salário com 11% de desconto para o imposto de renda, 8% para o INSS e 5% para o sindicato. A partir disso apresente:\n",
    "\n",
    "    a) Salário bruto\n",
    "    b) Quanto pagou ao INSS\n",
    "    c) Quanto pagou ao sindicato\n",
    "    d) Salário líquido"
   ]
  },
  {
   "cell_type": "code",
   "execution_count": 10,
   "id": "bd9934c6",
   "metadata": {},
   "outputs": [
    {
     "name": "stdout",
     "output_type": "stream",
     "text": [
      "Recebido por hora: 10\n",
      "Horas trabalhadas mensalmente: 100\n",
      "Salário bruto: 1000.0\n",
      "Pago ao INSS: 45.0\n",
      "Pago ao sindicato: 8.549999999999955\n",
      "Salário líquido: 846.45\n"
     ]
    }
   ],
   "source": [
    "# Calcula o novo valor após alteração de x% de um valor.\n",
    "def porcentagem(valor, fator):\n",
    "    return valor + fator * valor\n",
    "\n",
    "if __name__ == '__main__':\n",
    "    por_hora = float(input('Recebido por hora: '))\n",
    "    horas = float(input('Horas trabalhadas mensalmente: '))\n",
    "\n",
    "    bruto = por_hora * horas\n",
    "\n",
    "    # Imposto de renda\n",
    "    liquido = porcentagem(bruto, -0.11)\n",
    "\n",
    "    # INSS\n",
    "    inss = liquido\n",
    "    liquido = porcentagem(liquido, -0.08)\n",
    "    inss -= liquido\n",
    "\n",
    "    # Sindicato\n",
    "    sindicato = liquido\n",
    "    liquido = porcentagem(liquido, -0.05)\n",
    "    sindicato -= liquido\n",
    "\n",
    "    print('Salário bruto:', bruto)\n",
    "    print('Pago ao INSS:', inss)\n",
    "    print('Pago ao sindicato:', sindicato)\n",
    "    print('Salário líquido:', liquido)\n",
    "    "
   ]
  }
 ],
 "metadata": {
  "kernelspec": {
   "display_name": "Python 3 (ipykernel)",
   "language": "python",
   "name": "python3"
  },
  "language_info": {
   "codemirror_mode": {
    "name": "ipython",
    "version": 3
   },
   "file_extension": ".py",
   "mimetype": "text/x-python",
   "name": "python",
   "nbconvert_exporter": "python",
   "pygments_lexer": "ipython3",
   "version": "3.9.7"
  }
 },
 "nbformat": 4,
 "nbformat_minor": 5
}
